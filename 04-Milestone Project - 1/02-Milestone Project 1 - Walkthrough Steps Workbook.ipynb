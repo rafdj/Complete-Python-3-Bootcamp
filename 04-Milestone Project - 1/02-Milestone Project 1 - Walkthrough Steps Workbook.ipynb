{
 "cells": [
  {
   "cell_type": "markdown",
   "metadata": {},
   "source": [
    "# Milestone Project 1: Walkthrough Steps Workbook\n",
    "\n",
    "Below is a set of steps for you to follow to try to create the Tic Tac Toe Milestone Project game!"
   ]
  },
  {
   "cell_type": "markdown",
   "metadata": {},
   "source": [
    "#### Some suggested tools before you get started:\n",
    "To take input from a user:\n",
    "\n",
    "    player1 = input(\"Please pick a marker 'X' or 'O'\")\n",
    "    \n",
    "Note that input() takes in a string. If you need an integer value, use\n",
    "\n",
    "    position = int(input('Please enter a number'))\n",
    "    \n",
    "<br>To clear the screen between moves:\n",
    "\n",
    "    from IPython.display import clear_output\n",
    "    clear_output()\n",
    "    \n",
    "Note that clear_output() will only work in jupyter. To clear the screen in other IDEs, consider:\n",
    "\n",
    "    print('\\n'*100)\n",
    "    \n",
    "This scrolls the previous board up out of view. Now on to the program!"
   ]
  },
  {
   "cell_type": "markdown",
   "metadata": {},
   "source": [
    "**Step 1: Write a function that can print out a board. Set up your board as a list, where each index 1-9 corresponds with a number on a number pad, so you get a 3 by 3 board representation.**"
   ]
  },
  {
   "cell_type": "code",
   "execution_count": 1,
   "metadata": {
    "collapsed": true
   },
   "outputs": [],
   "source": [
    "from IPython.display import clear_output\n",
    "\n",
    "\n",
    "def display_board(board=['#', ' ', ' ', ' ', ' ', ' ', ' ', ' ', ' ', ' ']):\n",
    "    \"\"\"\n",
    "        display_board -> NoneType\n",
    "        Description: function to print the play board\n",
    "        Inputs:\n",
    "                board : list\n",
    "        Outputs:\n",
    "            Printed screen\n",
    "    \"\"\"\n",
    "    clear_output()\n",
    "\n",
    "    empty_line = 7*' '+'|'+7*' '+'|'+7*' '\n",
    "\n",
    "    value_line = 3*' ' + '{}' + 3*' ' + '|' + 3*' '\n",
    "    value_line += '{}' + 3*' ' + '|' + 3*' ' + '{}' + 3*' '\n",
    "\n",
    "    underscore_line = 7*'_'+'|'+7*'_'+'|'+7*'_'\n",
    "\n",
    "    print(empty_line)\n",
    "    print(value_line.format(board[7], board[8], board[9]))\n",
    "    print(underscore_line)\n",
    "    print(empty_line)\n",
    "    print(value_line.format(board[4], board[5], board[6]))\n",
    "    print(underscore_line)\n",
    "    print(empty_line)\n",
    "    print(value_line.format(board[1], board[2], board[3]))\n",
    "    print(empty_line)"
   ]
  },
  {
   "cell_type": "markdown",
   "metadata": {},
   "source": [
    "**TEST Step 1:** run your function on a test version of the board list, and make adjustments as necessary"
   ]
  },
  {
   "cell_type": "code",
   "execution_count": 2,
   "metadata": {},
   "outputs": [
    {
     "name": "stdout",
     "output_type": "stream",
     "text": [
      "       |       |       \n",
      "   X   |   O   |   X   \n",
      "_______|_______|_______\n",
      "       |       |       \n",
      "   O   |   X   |   O   \n",
      "_______|_______|_______\n",
      "       |       |       \n",
      "   X   |   O   |   X   \n",
      "       |       |       \n"
     ]
    }
   ],
   "source": [
    "test_board = ['#','X','O','X','O','X','O','X','O','X']\n",
    "display_board(test_board)"
   ]
  },
  {
   "cell_type": "markdown",
   "metadata": {},
   "source": [
    "**Step 2: Write a function that can take in a player input and assign their marker as 'X' or 'O'. Think about using *while* loops to continually ask until you get a correct answer.**"
   ]
  },
  {
   "cell_type": "code",
   "execution_count": 3,
   "metadata": {
    "collapsed": true
   },
   "outputs": [],
   "source": [
    "def player_input():\n",
    "    \"\"\"\n",
    "        player_input -> str\n",
    "        Description : Select the caracter used by a player\n",
    "        Outputs:\n",
    "            \"X\" or \"O\"\n",
    "    \"\"\"\n",
    "    marker = ''\n",
    "    while marker not in ('X', 'O'):\n",
    "        marker = input(\"Please select your marker 'X' or 'O': \").upper()\n",
    "\n",
    "    return marker\n"
   ]
  },
  {
   "cell_type": "markdown",
   "metadata": {},
   "source": [
    "**TEST Step 2:** run the function to make sure it returns the desired output"
   ]
  },
  {
   "cell_type": "code",
   "execution_count": 4,
   "metadata": {},
   "outputs": [
    {
     "name": "stdout",
     "output_type": "stream",
     "text": [
      "Please select your marker 'X' or 'O': x\n"
     ]
    },
    {
     "data": {
      "text/plain": [
       "'X'"
      ]
     },
     "execution_count": 4,
     "metadata": {},
     "output_type": "execute_result"
    }
   ],
   "source": [
    "player_input()"
   ]
  },
  {
   "cell_type": "markdown",
   "metadata": {},
   "source": [
    "**Step 3: Write a function that takes in the board list object, a marker ('X' or 'O'), and a desired position (number 1-9) and assigns it to the board.**"
   ]
  },
  {
   "cell_type": "code",
   "execution_count": 5,
   "metadata": {
    "collapsed": true
   },
   "outputs": [],
   "source": [
    "def place_marker(board, marker, position):\n",
    "    \"\"\"\n",
    "        place_marker -> list\n",
    "        Description: Fullfill board with \"X\" or \"O\" @position+1\n",
    "        Inputs:\n",
    "            board : list\n",
    "            marker : str\n",
    "            position : int\n",
    "        Outputs:\n",
    "            Updated board with the position felt by marker\n",
    "    \"\"\"\n",
    "    # Ecrasement volontaire en n'utilisant pas la fonction copy\n",
    "    updated_board = board\n",
    "    updated_board[position] = marker\n",
    "\n",
    "    return updated_board"
   ]
  },
  {
   "cell_type": "markdown",
   "metadata": {},
   "source": [
    "**TEST Step 3:** run the place marker function using test parameters and display the modified board"
   ]
  },
  {
   "cell_type": "code",
   "execution_count": 6,
   "metadata": {},
   "outputs": [
    {
     "name": "stdout",
     "output_type": "stream",
     "text": [
      "       |       |       \n",
      "   X   |   $   |   X   \n",
      "_______|_______|_______\n",
      "       |       |       \n",
      "   O   |   X   |   O   \n",
      "_______|_______|_______\n",
      "       |       |       \n",
      "   X   |   O   |   X   \n",
      "       |       |       \n"
     ]
    }
   ],
   "source": [
    "place_marker(test_board,'$',8)\n",
    "display_board(test_board)"
   ]
  },
  {
   "cell_type": "markdown",
   "metadata": {},
   "source": [
    "**Step 4: Write a function that takes in a board and a mark (X or O) and then checks to see if that mark has won. **"
   ]
  },
  {
   "cell_type": "code",
   "execution_count": 7,
   "metadata": {
    "collapsed": true
   },
   "outputs": [],
   "source": [
    "def win_check(board, mark):\n",
    "    \"\"\"\n",
    "        win_check -> boolean\n",
    "        Description: Check alignment of mark to know if it wins\n",
    "        Inputs:\n",
    "            board : list\n",
    "            mark : str\n",
    "        Outputs:\n",
    "            True : Player with \"mark\" has won\n",
    "            False : Player with \"mark\" didn't win yet\n",
    "    \"\"\"\n",
    "    board_values = board[1:]\n",
    "\n",
    "    result = False\n",
    "\n",
    "    # Diagonal winner\n",
    "    if mark not in board_values:\n",
    "        result = False\n",
    "    elif board_values[0] == board_values[4] == board_values[8] == mark or board_values[2] == board_values[4] == board_values[6] == mark:\n",
    "        result = True\n",
    "    else:\n",
    "        for i in range(0, len(board_values)-2):\n",
    "            # Horizontal winner\n",
    "            if board_values[i] == board_values[i+1] == board_values[i+2] == mark and i % 3 == 0:\n",
    "                return True\n",
    "                break\n",
    "            # Vertical winner\n",
    "            if i < len(board_values)-6:\n",
    "                if board_values[i] == board_values[i+3] == board_values[i+6] == mark:\n",
    "                    return True\n",
    "                    break\n",
    "\n",
    "    return result"
   ]
  },
  {
   "cell_type": "markdown",
   "metadata": {},
   "source": [
    "**TEST Step 4:** run the win_check function against our test_board - it should return True"
   ]
  },
  {
   "cell_type": "code",
   "execution_count": 8,
   "metadata": {},
   "outputs": [
    {
     "data": {
      "text/plain": [
       "True"
      ]
     },
     "execution_count": 8,
     "metadata": {},
     "output_type": "execute_result"
    }
   ],
   "source": [
    "win_check(test_board,'X')"
   ]
  },
  {
   "cell_type": "markdown",
   "metadata": {},
   "source": [
    "**Step 5: Write a function that uses the random module to randomly decide which player goes first. You may want to lookup random.randint() Return a string of which player went first.**"
   ]
  },
  {
   "cell_type": "code",
   "execution_count": 9,
   "metadata": {
    "collapsed": true
   },
   "outputs": [],
   "source": [
    "import random\n",
    "\n",
    "\n",
    "def choose_first():\n",
    "    \"\"\"\n",
    "        choose_first -> str\n",
    "        Description: Random select of the starting player\n",
    "        Outputs:\n",
    "            \"Player 1\" or \"Player 2\"\n",
    "    \"\"\"\n",
    "    return \"Player \" + str(random.randint(1, 2))"
   ]
  },
  {
   "cell_type": "code",
   "execution_count": 10,
   "metadata": {},
   "outputs": [
    {
     "data": {
      "text/plain": [
       "'Player 2'"
      ]
     },
     "execution_count": 10,
     "metadata": {},
     "output_type": "execute_result"
    }
   ],
   "source": [
    "choose_first()"
   ]
  },
  {
   "cell_type": "markdown",
   "metadata": {},
   "source": [
    "**Step 6: Write a function that returns a boolean indicating whether a space on the board is freely available.**"
   ]
  },
  {
   "cell_type": "code",
   "execution_count": 11,
   "metadata": {
    "collapsed": true
   },
   "outputs": [],
   "source": [
    "def space_check(board, position):\n",
    "    \"\"\"\n",
    "        space_check -> boolean\n",
    "        Description: Check if a position of the board is empty\n",
    "        Inputs:\n",
    "            board : list\n",
    "            position : int\n",
    "        Outputs:\n",
    "            True : the position is available\n",
    "            False : the position is not available\n",
    "    \"\"\"\n",
    "    return board[position] == ' '"
   ]
  },
  {
   "cell_type": "markdown",
   "metadata": {},
   "source": [
    "**Step 7: Write a function that checks if the board is full and returns a boolean value. True if full, False otherwise.**"
   ]
  },
  {
   "cell_type": "code",
   "execution_count": 12,
   "metadata": {
    "collapsed": true
   },
   "outputs": [],
   "source": [
    "def full_board_check(board):\n",
    "    \"\"\"\n",
    "        full_board_check -> boolean\n",
    "        Description: Detect if the board is full or not\n",
    "        Outputs:\n",
    "            True : if board is full\n",
    "            False : there is alwas cases available\n",
    "    \"\"\"\n",
    "    return ' ' not in board"
   ]
  },
  {
   "cell_type": "code",
   "execution_count": 13,
   "metadata": {},
   "outputs": [
    {
     "name": "stdout",
     "output_type": "stream",
     "text": [
      "False\n",
      "True\n"
     ]
    }
   ],
   "source": [
    "print(space_check(test_board,3))\n",
    "print(full_board_check(test_board))"
   ]
  },
  {
   "cell_type": "markdown",
   "metadata": {},
   "source": [
    "**Step 8: Write a function that asks for a player's next position (as a number 1-9) and then uses the function from step 6 to check if it's a free position. If it is, then return the position for later use.**"
   ]
  },
  {
   "cell_type": "code",
   "execution_count": 14,
   "metadata": {
    "collapsed": true
   },
   "outputs": [],
   "source": [
    "def player_choice(board):\n",
    "    \"\"\"\n",
    "        player_choice -> int\n",
    "        Description: Select the position to fullfill\n",
    "        Inputs:\n",
    "            board : list\n",
    "        Outputs:\n",
    "            The position to fullfill in the board\n",
    "    \"\"\"\n",
    "    while True:\n",
    "        position = input(\"Please select your position : \")\n",
    "        if position.isnumeric():\n",
    "            position = int(position)\n",
    "            if position > 9:\n",
    "                print(\"Please select a number between 1 and 9\")\n",
    "            elif space_check(board, position):\n",
    "                return(position)\n",
    "                break\n",
    "            else:\n",
    "                print(\"This position is no more available\")"
   ]
  },
  {
   "cell_type": "code",
   "execution_count": 15,
   "metadata": {},
   "outputs": [
    {
     "name": "stdout",
     "output_type": "stream",
     "text": [
      "Please select your position : 4\n"
     ]
    },
    {
     "data": {
      "text/plain": [
       "4"
      ]
     },
     "execution_count": 15,
     "metadata": {},
     "output_type": "execute_result"
    }
   ],
   "source": [
    "test_board2 = test_board.copy()\n",
    "test_board2[4] = ' '\n",
    "player_choice(test_board2)"
   ]
  },
  {
   "cell_type": "markdown",
   "metadata": {},
   "source": [
    "**Step 9: Write a function that asks the player if they want to play again and returns a boolean True if they do want to play again.**"
   ]
  },
  {
   "cell_type": "code",
   "execution_count": 16,
   "metadata": {
    "collapsed": true
   },
   "outputs": [],
   "source": [
    "def replay():\n",
    "    \"\"\"\n",
    "        replay -> str\n",
    "        Description: Allow to replay or not\n",
    "        Outputs:\n",
    "            \"Y\": the game restarts\n",
    "            \"N\": the game stops\n",
    "    \"\"\"\n",
    "    return input(\"Do you want to play again (Y/N) : \").upper().strip() == 'Y'"
   ]
  },
  {
   "cell_type": "code",
   "execution_count": 17,
   "metadata": {},
   "outputs": [
    {
     "name": "stdout",
     "output_type": "stream",
     "text": [
      "Do you want to play again (Y/N) : y\n"
     ]
    },
    {
     "data": {
      "text/plain": [
       "True"
      ]
     },
     "execution_count": 17,
     "metadata": {},
     "output_type": "execute_result"
    }
   ],
   "source": [
    "replay()"
   ]
  },
  {
   "cell_type": "markdown",
   "metadata": {
    "collapsed": true
   },
   "source": [
    "**Step 10: Here comes the hard part! Use while loops and the functions you've made to run the game!**"
   ]
  },
  {
   "cell_type": "code",
   "execution_count": 18,
   "metadata": {},
   "outputs": [
    {
     "name": "stdout",
     "output_type": "stream",
     "text": [
      "       |       |       \n",
      "   X   |   O   |   X   \n",
      "_______|_______|_______\n",
      "       |       |       \n",
      "   O   |   O   |   X   \n",
      "_______|_______|_______\n",
      "       |       |       \n",
      "   X   |   X   |   O   \n",
      "       |       |       \n",
      "Endgame ! Try again\n",
      "Do you want to play again (Y/N) : N\n"
     ]
    }
   ],
   "source": [
    "print('Welcome to Tic Tac Toe!')\n",
    "\n",
    "while True:\n",
    "\n",
    "    marks_choice = ['X', 'O']\n",
    "\n",
    "    # Who starts the game : First player name\n",
    "    player_first = choose_first()\n",
    "    print(player_first+\" you will start the game !\")\n",
    "\n",
    "    # Second player name\n",
    "    if player_first == \"Player 1\":\n",
    "        player_second = \"Player 2\"\n",
    "    else:\n",
    "        player_second = \"Player 1\"\n",
    "\n",
    "    # Players' marks\n",
    "    player_first_mark = player_input()\n",
    "    marks_choice.remove(player_first_mark)\n",
    "    player_second_mark = marks_choice[0]\n",
    "\n",
    "    # Init the game\n",
    "    board = ['#', ' ', ' ', ' ', ' ', ' ', ' ', ' ', ' ', ' ']\n",
    "    game_on = True\n",
    "    while not full_board_check(board):\n",
    "        # Player 1 turn\n",
    "        display_board(board)\n",
    "        print(player_first + \"'s (\" + player_first_mark + \") Turn\")\n",
    "        player_first_choice = player_choice(board)\n",
    "        if space_check(board, player_first_choice):\n",
    "            place_marker(board, player_first_mark, player_first_choice)\n",
    "        if win_check(board, player_first_mark):\n",
    "            print(\"Congratulations \"+player_first+\" !! You won\")\n",
    "            break\n",
    "        elif not full_board_check(board):\n",
    "            # No win from Player 1 -> Player 2 turn\n",
    "            display_board(board)\n",
    "            print(player_second + \"'s (\" + player_second_mark + \") Turn\")\n",
    "            player_second_choice = player_choice(board)\n",
    "            if space_check(board, player_second_choice):\n",
    "                place_marker(board, player_second_mark, player_second_choice)\n",
    "            if win_check(board, player_second_mark):\n",
    "                display_board(board)\n",
    "                print(\"Congratulations \"+player_second+\" !! You won\")\n",
    "                break\n",
    "        else:\n",
    "            # Noone won -> Endgame\n",
    "            display_board(board)\n",
    "            print(\"Endgame ! Try again ?\")\n",
    "    # Somebody won or board is full -> Replay ?\n",
    "    if not replay():\n",
    "        break"
   ]
  },
  {
   "cell_type": "markdown",
   "metadata": {
    "collapsed": true
   },
   "source": [
    "## Good Job!"
   ]
  }
 ],
 "metadata": {
  "kernelspec": {
   "display_name": "Python 3",
   "language": "python",
   "name": "python3"
  },
  "language_info": {
   "codemirror_mode": {
    "name": "ipython",
    "version": 3
   },
   "file_extension": ".py",
   "mimetype": "text/x-python",
   "name": "python",
   "nbconvert_exporter": "python",
   "pygments_lexer": "ipython3",
   "version": "3.6.1"
  }
 },
 "nbformat": 4,
 "nbformat_minor": 1
}
