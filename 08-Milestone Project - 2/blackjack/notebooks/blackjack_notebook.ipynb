{
 "cells": [
  {
   "cell_type": "markdown",
   "metadata": {},
   "source": [
    "# Blackjack\n",
    "\n",
    "Croupier contre joueurs\n",
    "\n",
    "## Déroulement d'une partie\n",
    "\n",
    "La partie continue jusqu'à ce que :\n",
    "\n",
    "    Balance joueur = 0 pour tous les joueurs ou\n",
    "\n",
    "    Caisse croupier = 0\n",
    "\n",
    "Une partie est composée de plusieurs manches\n",
    "\n",
    "La manche commence avec des mises et continue jusqu'à ce que :\n",
    "\n",
    "    Le croupier ait 17 cartes ou\n",
    "\n",
    "    Un des joueurs ait blackjack (21 points)\n",
    "\n",
    "Si joueur gagne alors balance joueur = balance joueur + mise * 1.5\n",
    "\n",
    "## Déroulement d'une manche\n",
    "\n",
    "Si nb points croupier > 21 alors tous les joueurs gagnent\n",
    "\n",
    "Si nb points croupier = 21 alors tous les joueurs perdent\n",
    "\n",
    "Si 17 < nb points croupier < 21 alors\n",
    "\n",
    "    Si nb points joueur > nb points croupier alors joueur gagne\n",
    "    \n",
    "    Si nb points joueur = nb points croupier alors joueur reprend sa mise\n",
    "    \n",
    "    Sinon joueur perd\n",
    "    "
   ]
  },
  {
   "cell_type": "markdown",
   "metadata": {},
   "source": [
    "# Valeurs des cartes\n",
    "\n",
    "As = 1 ou 11 (au choix du joueur)\n",
    "\n",
    "Cartes de 2 à 9 = nombre de points\n",
    "\n",
    "Cartes graphiques (valet, reine et roi) = 10 points\n",
    "\n",
    "Couleurs = Coeur, carré, trèfle, pique"
   ]
  },
  {
   "cell_type": "code",
   "execution_count": 126,
   "metadata": {
    "collapsed": true
   },
   "outputs": [],
   "source": [
    "import random\n",
    "\n",
    "\n",
    "class Card():\n",
    "    def __init__(self, color=\"\", value=\"\", points=0):\n",
    "        self.color = color\n",
    "        self.value = value\n",
    "        self.points = points\n",
    "\n",
    "    def __str__(self):\n",
    "        \"\"\"\n",
    "        print method of a card return the card value, its color and the number of points\n",
    "        \"\"\"\n",
    "        return \"Card color : \"+self.color+\"\\nCard value : \"+self.value+\"\\nNumber of points for this card : \"+str(self.points)\n",
    "\n",
    "    # This is Class attributes that define available parameters for a card\n",
    "    colors_value = [\"Carré\", \"Coeur\", \"Trèfle\", \"Pique\"]\n",
    "\n",
    "    cards_value = {str(i): i for i in range(2, 10)}\n",
    "    # Points values\n",
    "    cards_value.update({i: 10 for i in ['Valet', 'Dame', 'Roi']})\n",
    "    cards_value.update({'As': (1, 10)})\n",
    "\n",
    "    @classmethod\n",
    "    def random_card(cls):\n",
    "        \"\"\"\n",
    "        Method to select a random card\n",
    "        Output : Card object with random color, value and related number of\n",
    "        points\n",
    "        \"\"\"\n",
    "        selected_card_value = random.choice(list(cls.cards_value.keys()))\n",
    "        selected_card_points = cls.cards_value[selected_card_value]\n",
    "        cls.color = random.choice(cls.colors_value)\n",
    "        cls.value = selected_card_value\n",
    "        cls.points = selected_card_points\n",
    "        return cls"
   ]
  },
  {
   "cell_type": "code",
   "execution_count": 134,
   "metadata": {},
   "outputs": [],
   "source": [
    "# Import config\n",
    "balance_by_default = 17000\n",
    "playername_by_default = \"Croupier\"\n",
    "\n",
    "\n",
    "class Player():\n",
    "    def __init__(self, name=playername_by_default, balance=balance_by_default, game=[]):\n",
    "        \"\"\"\n",
    "        - if the name is empty or not provided, the player name should by the\n",
    "        name by default\n",
    "        - the balance value for the player by default is the balance value by\n",
    "        default\n",
    "        - if the balance value is not forced, it should take the balance value\n",
    "        by default divided by the maximum number of rounds (17)\n",
    "        - the initial game of a player, including the crouper, is empty\n",
    "        \"\"\"\n",
    "        if name:\n",
    "            self.name = name\n",
    "        else:\n",
    "            self.name = playername_by_default\n",
    "        self.balance = balance\n",
    "        if self.name != playername_by_default and self.balance == balance_by_default:\n",
    "            self.balance = balance/17\n",
    "        self.game = game\n",
    "\n",
    "    def __len__(self):\n",
    "        \"\"\"\n",
    "        len method return the number of cards in a player game\n",
    "        \"\"\"\n",
    "        return len(self.game)\n",
    "\n",
    "    def __str__(self):\n",
    "        \"\"\"\n",
    "        print method retunr the name, the balance and all the game of a player\n",
    "        \"\"\"\n",
    "        return \"Player name : \"+self.name+\"\\nPlayer balance : \"+str(self.balance)+\"\\nPlayer cards : \"+str(self.game)\n",
    "\n",
    "    def add_card_to_game(self):\n",
    "        \"\"\"\n",
    "        Add a random card to the player game\n",
    "        \"\"\"\n",
    "        self.game.append(Card.random_card())\n",
    "\n",
    "    def game_value(self):\n",
    "        game_value = 0\n",
    "        for card in self.game:\n",
    "            if card.value == \"As\":\n",
    "                pass\n",
    "            else:\n",
    "                pass\n",
    "        return game_value\n"
   ]
  },
  {
   "cell_type": "code",
   "execution_count": 137,
   "metadata": {},
   "outputs": [
    {
     "name": "stdout",
     "output_type": "stream",
     "text": [
      "Please give a name to player 1 : zeza\n",
      "Player name : zeza\n",
      "Player balance : 2000\n",
      "Player cards : []\n",
      "0\n"
     ]
    },
    {
     "data": {
      "text/plain": [
       "[]"
      ]
     },
     "execution_count": 137,
     "metadata": {},
     "output_type": "execute_result"
    }
   ],
   "source": [
    "player1_name = input(\"Please give a name to player 1 : \")\n",
    "player1 = Player(player1_name, 2000)\n",
    "print(player1)\n",
    "print(len(player1))\n",
    "player1.game"
   ]
  },
  {
   "cell_type": "code",
   "execution_count": 138,
   "metadata": {
    "collapsed": true
   },
   "outputs": [],
   "source": [
    "player1.add_card_to_game()"
   ]
  },
  {
   "cell_type": "code",
   "execution_count": 139,
   "metadata": {},
   "outputs": [
    {
     "data": {
      "text/plain": [
       "[__main__.Card]"
      ]
     },
     "execution_count": 139,
     "metadata": {},
     "output_type": "execute_result"
    }
   ],
   "source": [
    "len(player1)\n",
    "player1.game"
   ]
  },
  {
   "cell_type": "code",
   "execution_count": 120,
   "metadata": {},
   "outputs": [
    {
     "name": "stdout",
     "output_type": "stream",
     "text": [
      "Player name : dsq\n",
      "Player balance : 2000\n",
      "Player cards : [<class '__main__.Card'>]\n"
     ]
    }
   ],
   "source": [
    "print(player1)"
   ]
  },
  {
   "cell_type": "code",
   "execution_count": 123,
   "metadata": {},
   "outputs": [
    {
     "name": "stdout",
     "output_type": "stream",
     "text": [
      "<class 'list'>\n"
     ]
    }
   ],
   "source": [
    "print(type(player1.game))"
   ]
  },
  {
   "cell_type": "code",
   "execution_count": 124,
   "metadata": {
    "collapsed": true
   },
   "outputs": [],
   "source": [
    "player1.add_card_to_game()"
   ]
  },
  {
   "cell_type": "code",
   "execution_count": 125,
   "metadata": {},
   "outputs": [
    {
     "name": "stdout",
     "output_type": "stream",
     "text": [
      "Player name : dsq\n",
      "Player balance : 2000\n",
      "Player cards : [<class '__main__.Card'>, <class '__main__.Card'>]\n"
     ]
    }
   ],
   "source": [
    "print(player1)"
   ]
  },
  {
   "cell_type": "code",
   "execution_count": null,
   "metadata": {
    "collapsed": true
   },
   "outputs": [],
   "source": []
  }
 ],
 "metadata": {
  "kernelspec": {
   "display_name": "Python 3",
   "language": "python",
   "name": "python3"
  },
  "language_info": {
   "codemirror_mode": {
    "name": "ipython",
    "version": 3
   },
   "file_extension": ".py",
   "mimetype": "text/x-python",
   "name": "python",
   "nbconvert_exporter": "python",
   "pygments_lexer": "ipython3",
   "version": "3.6.1"
  }
 },
 "nbformat": 4,
 "nbformat_minor": 2
}
