{
 "cells": [
  {
   "cell_type": "markdown",
   "metadata": {},
   "source": [
    "# Blackjack\n",
    "\n",
    "Croupier contre joueurs\n",
    "\n",
    "## Déroulement d'une partie\n",
    "\n",
    "La partie continue jusqu'à ce que :\n",
    "\n",
    "    Balance joueur = 0 pour tous les joueurs ou\n",
    "\n",
    "    Caisse croupier = 0\n",
    "\n",
    "Une partie est composée de plusieurs manches\n",
    "\n",
    "La manche commence avec des mises et continue jusqu'à ce que :\n",
    "\n",
    "    Le croupier ait 17 cartes ou\n",
    "\n",
    "    Un des joueurs ait blackjack (21 points)\n",
    "\n",
    "Si joueur gagne alors balance joueur = balance joueur + mise * 1.5\n",
    "\n",
    "## Déroulement d'une manche\n",
    "\n",
    "Si nb points croupier > 21 alors tous les joueurs gagnent\n",
    "\n",
    "Si nb points croupier = 21 alors tous les joueurs perdent\n",
    "\n",
    "Si 17 < nb points croupier < 21 alors\n",
    "\n",
    "    Si nb points joueur > nb points croupier alors joueur gagne\n",
    "    \n",
    "    Si nb points joueur = nb points croupier alors joueur reprend sa mise\n",
    "    \n",
    "    Sinon joueur perd\n",
    "    "
   ]
  },
  {
   "cell_type": "markdown",
   "metadata": {},
   "source": [
    "# Valeurs des cartes\n",
    "\n",
    "As = 1 ou 11 (au choix du joueur)\n",
    "\n",
    "Cartes de 2 à 9 = nombre de points\n",
    "\n",
    "Cartes graphiques (valet, reine et roi) = 10 points\n",
    "\n",
    "Couleurs = Coeur, carré, trèfle, pique"
   ]
  },
  {
   "cell_type": "code",
   "execution_count": 1,
   "metadata": {},
   "outputs": [
    {
     "data": {
      "text/plain": [
       "'C:\\\\Users\\\\rafdj\\\\OneDrive\\\\GIT\\\\Complete-Python-3-Bootcamp\\\\08-Milestone Project - 2\\\\blackjack\\\\notebooks\\\\Complete-Python-3-Bootcamp\\\\08-Milestone Project - 2\\\\blackjack\\\\src'"
      ]
     },
     "execution_count": 1,
     "metadata": {},
     "output_type": "execute_result"
    }
   ],
   "source": [
    "import sys\n",
    "import os\n",
    "\n",
    "os.path.abspath(os.curdir)+\"\\\\Complete-Python-3-Bootcamp\\\\08-Milestone Project - 2\\\\blackjack\\\\src\""
   ]
  },
  {
   "cell_type": "code",
   "execution_count": 2,
   "metadata": {},
   "outputs": [
    {
     "data": {
      "text/plain": [
       "'C:\\\\Users\\\\rafdj\\\\OneDrive\\\\GIT\\\\Complete-Python-3-Bootcamp\\\\08-Milestone Project - 2\\\\blackjack\\\\notebooks\\\\..\\\\src'"
      ]
     },
     "execution_count": 2,
     "metadata": {},
     "output_type": "execute_result"
    }
   ],
   "source": [
    "repo = os.path.abspath(os.curdir)+\"\\\\..\"+\"\\\\src\"\n",
    "repo"
   ]
  },
  {
   "cell_type": "code",
   "execution_count": 3,
   "metadata": {},
   "outputs": [],
   "source": [
    "sys.path.append(repo)"
   ]
  },
  {
   "cell_type": "code",
   "execution_count": 4,
   "metadata": {},
   "outputs": [],
   "source": [
    "from utils.card import *\n",
    "from utils.player import *\n",
    "from utils.players_init import *\n",
    "from utils.set_ending import *\n",
    "from utils.set_playing import *"
   ]
  },
  {
   "cell_type": "code",
   "execution_count": 5,
   "metadata": {},
   "outputs": [
    {
     "name": "stdout",
     "output_type": "stream",
     "text": [
      "Please select a number of players : 1\n",
      "You are the number 1\n",
      "What is your name ? Rafik\n"
     ]
    }
   ],
   "source": [
    "players = players_init()"
   ]
  },
  {
   "cell_type": "code",
   "execution_count": 7,
   "metadata": {},
   "outputs": [
    {
     "name": "stdout",
     "output_type": "stream",
     "text": [
      "Faites vos jeux rien ne va plus !\n",
      "Rafik, how much do you wanna play ?100\n",
      "Rafik, Do you want a card ? Y/N : n\n",
      "OK this round is up !\n",
      "Rafik, Do you want a card ? Y/N : n\n",
      "OK this round is up !\n",
      "Rafik, Do you want a card ? Y/N : n\n",
      "OK this round is up !\n",
      "Rafik, Do you want a card ? Y/N : n\n",
      "OK this round is up !\n",
      "Rafik, Do you want a card ? Y/N : n\n",
      "OK this round is up !\n",
      "Rafik, Do you want a card ? Y/N : n\n",
      "OK this round is up !\n",
      "Rafik, Do you want a card ? Y/N : n\n",
      "OK this round is up !\n",
      "Rafik, Do you want a card ? Y/N : n\n",
      "OK this round is up !\n",
      "Rafik, Do you want a card ? Y/N : n\n",
      "OK this round is up !\n",
      "Rafik, Do you want a card ? Y/N : n\n",
      "OK this round is up !\n",
      "Rafik, Do you want a card ? Y/N : n\n",
      "OK this round is up !\n",
      "Rafik, Do you want a card ? Y/N : n\n",
      "OK this round is up !\n",
      "Rafik, Do you want a card ? Y/N : n\n",
      "OK this round is up !\n",
      "Rafik, Do you want a card ? Y/N : n\n",
      "OK this round is up !\n",
      "Rafik, Do you want a card ? Y/N : n\n",
      "OK this round is up !\n",
      "Rafik, Do you want a card ? Y/N : n\n",
      "OK this round is up !\n",
      "Rafik, Do you want a card ? Y/N : n\n",
      "OK this round is up !\n",
      "Rafik, Do you want a card ? Y/N : n\n",
      "All the players have won\n",
      "Finished : The bank has won ! All the players have lost\n"
     ]
    }
   ],
   "source": [
    "while True:\n",
    "    set_init(players)\n",
    "    if max([player.mise for player in players[1:]]) == 0:\n",
    "        print(\"Finished : No player want to play again\")\n",
    "        break\n",
    "    else:\n",
    "        set_playing(players)\n",
    "        set_ending(players)\n",
    "        if max([player.game_value() for player in players[1:]]) == 0:\n",
    "            print(\"Finished : The bank has won ! All the players have lost\")\n",
    "            break"
   ]
  },
  {
   "cell_type": "code",
   "execution_count": null,
   "metadata": {
    "scrolled": true
   },
   "outputs": [],
   "source": [
    "playing_oneset(players)"
   ]
  },
  {
   "cell_type": "code",
   "execution_count": null,
   "metadata": {},
   "outputs": [],
   "source": [
    "print(players[1])\n",
    "players[1].game_value()"
   ]
  },
  {
   "cell_type": "code",
   "execution_count": null,
   "metadata": {},
   "outputs": [],
   "source": [
    "print(players[1].game)"
   ]
  },
  {
   "cell_type": "code",
   "execution_count": null,
   "metadata": {},
   "outputs": [],
   "source": [
    "new_card = Card.random_card()\n",
    "#print(new_card)\n"
   ]
  },
  {
   "cell_type": "code",
   "execution_count": null,
   "metadata": {},
   "outputs": [],
   "source": [
    "str(new_card.points)\n",
    "t = \n",
    "new_card.color\n",
    "print(\"(\"+new_card.color+\",\"+new_card.value+\",\"+str(new_card.points)+\")\")\n"
   ]
  },
  {
   "cell_type": "code",
   "execution_count": null,
   "metadata": {},
   "outputs": [],
   "source": [
    "del(new_card)"
   ]
  },
  {
   "cell_type": "code",
   "execution_count": null,
   "metadata": {},
   "outputs": [],
   "source": [
    "id(players[1].game)"
   ]
  },
  {
   "cell_type": "code",
   "execution_count": null,
   "metadata": {},
   "outputs": [],
   "source": [
    "players[1].game[0]"
   ]
  },
  {
   "cell_type": "code",
   "execution_count": null,
   "metadata": {},
   "outputs": [],
   "source": [
    "players[0].game[0]"
   ]
  },
  {
   "cell_type": "code",
   "execution_count": null,
   "metadata": {},
   "outputs": [],
   "source": [
    "dir(Card)"
   ]
  },
  {
   "cell_type": "code",
   "execution_count": null,
   "metadata": {},
   "outputs": [],
   "source": [
    "import unittest"
   ]
  },
  {
   "cell_type": "code",
   "execution_count": null,
   "metadata": {},
   "outputs": [],
   "source": []
  }
 ],
 "metadata": {
  "kernelspec": {
   "display_name": "Python 3",
   "language": "python",
   "name": "python3"
  },
  "language_info": {
   "codemirror_mode": {
    "name": "ipython",
    "version": 3
   },
   "file_extension": ".py",
   "mimetype": "text/x-python",
   "name": "python",
   "nbconvert_exporter": "python",
   "pygments_lexer": "ipython3",
   "version": "3.7.3"
  }
 },
 "nbformat": 4,
 "nbformat_minor": 2
}
