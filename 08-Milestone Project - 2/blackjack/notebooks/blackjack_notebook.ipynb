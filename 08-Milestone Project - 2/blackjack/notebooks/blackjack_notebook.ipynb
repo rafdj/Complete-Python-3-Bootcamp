{
 "cells": [
  {
   "cell_type": "markdown",
   "metadata": {},
   "source": [
    "# Blackjack\n",
    "\n",
    "Croupier contre joueurs\n",
    "\n",
    "## Déroulement d'une partie\n",
    "\n",
    "La partie continue jusqu'à ce que :\n",
    "\n",
    "    Balance joueur = 0 pour tous les joueurs ou\n",
    "\n",
    "    Caisse croupier = 0\n",
    "\n",
    "Une partie est composée de plusieurs manches\n",
    "\n",
    "La manche commence avec des mises et continue jusqu'à ce que :\n",
    "\n",
    "    Le croupier ait 17 cartes ou\n",
    "\n",
    "    Un des joueurs ait blackjack (21 points)\n",
    "\n",
    "Si joueur gagne alors balance joueur = balance joueur + mise * 1.5\n",
    "\n",
    "## Déroulement d'une manche\n",
    "\n",
    "Si nb points croupier > 21 alors tous les joueurs gagnent\n",
    "\n",
    "Si nb points croupier = 21 alors tous les joueurs perdent\n",
    "\n",
    "Si 17 < nb points croupier < 21 alors\n",
    "\n",
    "    Si nb points joueur > nb points croupier alors joueur gagne\n",
    "    \n",
    "    Si nb points joueur = nb points croupier alors joueur reprend sa mise\n",
    "    \n",
    "    Sinon joueur perd\n",
    "    "
   ]
  },
  {
   "cell_type": "markdown",
   "metadata": {},
   "source": [
    "# Valeurs des cartes\n",
    "\n",
    "As = 1 ou 11 (au choix du joueur)\n",
    "\n",
    "Cartes de 2 à 9 = nombre de points\n",
    "\n",
    "Cartes graphiques (valet, reine et roi) = 10 points\n",
    "\n",
    "Couleurs = Coeur, carré, trèfle, pique"
   ]
  },
  {
   "cell_type": "code",
   "execution_count": 1,
   "metadata": {},
   "outputs": [
    {
     "data": {
      "text/plain": [
       "'C:\\\\Users\\\\rafdj\\\\OneDrive\\\\GIT\\\\Complete-Python-3-Bootcamp\\\\08-Milestone Project - 2\\\\blackjack\\\\notebooks\\\\Complete-Python-3-Bootcamp\\\\08-Milestone Project - 2\\\\blackjack\\\\src'"
      ]
     },
     "execution_count": 1,
     "metadata": {},
     "output_type": "execute_result"
    }
   ],
   "source": [
    "import sys\n",
    "import os\n",
    "\n",
    "os.path.abspath(os.curdir)+\"\\\\Complete-Python-3-Bootcamp\\\\08-Milestone Project - 2\\\\blackjack\\\\src\""
   ]
  },
  {
   "cell_type": "code",
   "execution_count": 2,
   "metadata": {},
   "outputs": [
    {
     "data": {
      "text/plain": [
       "'C:\\\\Users\\\\rafdj\\\\OneDrive\\\\GIT\\\\Complete-Python-3-Bootcamp\\\\08-Milestone Project - 2\\\\blackjack\\\\notebooks\\\\..\\\\src'"
      ]
     },
     "execution_count": 2,
     "metadata": {},
     "output_type": "execute_result"
    }
   ],
   "source": [
    "repo = os.path.abspath(os.curdir)+\"\\\\..\"+\"\\\\src\"\n",
    "repo"
   ]
  },
  {
   "cell_type": "code",
   "execution_count": 3,
   "metadata": {},
   "outputs": [],
   "source": [
    "sys.path.append(repo)"
   ]
  },
  {
   "cell_type": "code",
   "execution_count": 86,
   "metadata": {},
   "outputs": [],
   "source": [
    "from utils.players_init import *\n",
    "from utils.winner_test import *\n",
    "from utils.playing_oneset import *\n",
    "from utils.player import *\n",
    "from utils.card import *"
   ]
  },
  {
   "cell_type": "code",
   "execution_count": 87,
   "metadata": {},
   "outputs": [
    {
     "name": "stdout",
     "output_type": "stream",
     "text": [
      "Please select a number of players : 1\n",
      "You are the number 1\n",
      "What is your name ? Amel\n"
     ]
    }
   ],
   "source": [
    "players = players_init()"
   ]
  },
  {
   "cell_type": "code",
   "execution_count": 88,
   "metadata": {},
   "outputs": [],
   "source": [
    "def playing_oneset(players):\n",
    "    \"\"\"\n",
    "    Playing one set of blackjack\n",
    "    The game continue until :\n",
    "        Crouper (players[0]) has 17 cards or\n",
    "        No player ask for a card\n",
    "    \"\"\"\n",
    "    player_index = 1\n",
    "    while True:\n",
    "        player = players[player_index]\n",
    "        request_for_player = player.name + \", Do you want a card ? Y/N : \"\n",
    "        do_you_want_a_card = input(request_for_player)\n",
    "        if do_you_want_a_card.strip().upper() == 'Y':\n",
    "            new_card = Card.random_card()\n",
    "            print(\"(\"+new_card.color+\",\"+new_card.value+\",\"+str(new_card.points)+\")\")\n",
    "            player.game.append(new_card)\n",
    "            print(player)\n",
    "            # Croupier add a card only if a player do it\n",
    "            players[0].game.append(new_card)\n",
    "            player_index += 1\n",
    "            del(new_card)\n",
    "        elif do_you_want_a_card.strip().upper() == 'N':\n",
    "            player_index += 1\n",
    "        else:\n",
    "            print(\"I did not understand your answer, please select Y(yes) or N(no)\")\n",
    "        if player_index == len(players):\n",
    "            player_index = 1\n",
    "        if len(players[0]) == 2:\n",
    "            break"
   ]
  },
  {
   "cell_type": "code",
   "execution_count": 89,
   "metadata": {
    "scrolled": true
   },
   "outputs": [
    {
     "name": "stdout",
     "output_type": "stream",
     "text": [
      "Amel, Do you want a card ? Y/N : y\n",
      "(Carré,As,(1, 11))\n",
      "Player name : Amel\n",
      "Player balance : 1000.0\n",
      "Player cards : \n",
      "Card 1 : (Carré, As, (1, 11))\n",
      "Amel, Do you want a card ? Y/N : y\n",
      "(Pique,5,5)\n",
      "Player name : Amel\n",
      "Player balance : 1000.0\n",
      "Player cards : \n",
      "Card 1 : (Pique, 5, 5)\n",
      "Card 2 : (Pique, 5, 5)\n"
     ]
    }
   ],
   "source": [
    "playing_oneset(players)"
   ]
  },
  {
   "cell_type": "code",
   "execution_count": 85,
   "metadata": {},
   "outputs": [
    {
     "name": "stdout",
     "output_type": "stream",
     "text": [
      "Player name : Rafik\n",
      "Player balance : 1000.0\n",
      "Player cards : \n",
      "Card 1 : (Pique, 9, 9)\n",
      "Card 2 : (Pique, 9, 9)\n",
      "Card 3 : (Pique, 9, 9)\n",
      "Card 4 : (Pique, 9, 9)\n",
      "Card 5 : (Pique, 9, 9)\n",
      "Card 6 : (Pique, 9, 9)\n",
      "Card 7 : (Pique, 9, 9)\n",
      "Card 8 : (Pique, 9, 9)\n",
      "Card 9 : (Pique, 9, 9)\n",
      "Card 10 : (Pique, 9, 9)\n",
      "Card 11 : (Pique, 9, 9)\n",
      "Card 12 : (Pique, 9, 9)\n",
      "Card 13 : (Pique, 9, 9)\n",
      "Card 14 : (Pique, 9, 9)\n",
      "Card 15 : (Pique, 9, 9)\n",
      "Card 16 : (Pique, 9, 9)\n",
      "Card 17 : (Pique, 9, 9)\n"
     ]
    },
    {
     "data": {
      "text/plain": [
       "153"
      ]
     },
     "execution_count": 85,
     "metadata": {},
     "output_type": "execute_result"
    }
   ],
   "source": [
    "print(players[1])\n",
    "players[1].game_value()"
   ]
  },
  {
   "cell_type": "code",
   "execution_count": 81,
   "metadata": {},
   "outputs": [
    {
     "name": "stdout",
     "output_type": "stream",
     "text": [
      "[<class 'utils.card.Card'>, <class 'utils.card.Card'>, <class 'utils.card.Card'>, <class 'utils.card.Card'>, <class 'utils.card.Card'>, <class 'utils.card.Card'>, <class 'utils.card.Card'>, <class 'utils.card.Card'>, <class 'utils.card.Card'>, <class 'utils.card.Card'>, <class 'utils.card.Card'>, <class 'utils.card.Card'>, <class 'utils.card.Card'>, <class 'utils.card.Card'>, <class 'utils.card.Card'>, <class 'utils.card.Card'>, <class 'utils.card.Card'>]\n"
     ]
    }
   ],
   "source": [
    "print(players[1].game)"
   ]
  },
  {
   "cell_type": "code",
   "execution_count": 63,
   "metadata": {},
   "outputs": [],
   "source": [
    "new_card = Card.random_card()\n",
    "#print(new_card)\n"
   ]
  },
  {
   "cell_type": "code",
   "execution_count": 64,
   "metadata": {},
   "outputs": [
    {
     "data": {
      "text/plain": [
       "'(Carré,5,5)'"
      ]
     },
     "execution_count": 64,
     "metadata": {},
     "output_type": "execute_result"
    }
   ],
   "source": [
    "str(new_card.points)\n",
    "t = \n",
    "new_card.color\n",
    "print(\"(\"+new_card.color+\",\"+new_card.value+\",\"+str(new_card.points)+\")\")\n"
   ]
  },
  {
   "cell_type": "code",
   "execution_count": 65,
   "metadata": {},
   "outputs": [],
   "source": [
    "del(new_card)"
   ]
  },
  {
   "cell_type": "code",
   "execution_count": null,
   "metadata": {},
   "outputs": [],
   "source": [
    "id(players[1].game)"
   ]
  },
  {
   "cell_type": "code",
   "execution_count": null,
   "metadata": {},
   "outputs": [],
   "source": [
    "players[1].game[0]"
   ]
  },
  {
   "cell_type": "code",
   "execution_count": null,
   "metadata": {},
   "outputs": [],
   "source": [
    "players[0].game[0]"
   ]
  },
  {
   "cell_type": "code",
   "execution_count": null,
   "metadata": {},
   "outputs": [],
   "source": [
    "dir(Card)"
   ]
  },
  {
   "cell_type": "code",
   "execution_count": 1,
   "metadata": {},
   "outputs": [],
   "source": [
    "import unittest"
   ]
  },
  {
   "cell_type": "code",
   "execution_count": null,
   "metadata": {},
   "outputs": [],
   "source": []
  }
 ],
 "metadata": {
  "kernelspec": {
   "display_name": "Python 3",
   "language": "python",
   "name": "python3"
  },
  "language_info": {
   "codemirror_mode": {
    "name": "ipython",
    "version": 3
   },
   "file_extension": ".py",
   "mimetype": "text/x-python",
   "name": "python",
   "nbconvert_exporter": "python",
   "pygments_lexer": "ipython3",
   "version": "3.7.3"
  }
 },
 "nbformat": 4,
 "nbformat_minor": 2
}
