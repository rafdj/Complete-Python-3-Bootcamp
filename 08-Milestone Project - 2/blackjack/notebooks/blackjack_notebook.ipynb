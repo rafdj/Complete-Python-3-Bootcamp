{
 "cells": [
  {
   "cell_type": "markdown",
   "metadata": {},
   "source": [
    "# Blackjack\n",
    "\n",
    "Croupier contre joueurs\n",
    "\n",
    "## Déroulement d'une partie\n",
    "\n",
    "La partie continue jusqu'à ce que :\n",
    "\n",
    "    Balance joueur = 0 pour tous les joueurs ou\n",
    "\n",
    "    Caisse croupier = 0\n",
    "\n",
    "Une partie est composée de plusieurs manches\n",
    "\n",
    "La manche commence avec des mises et continue jusqu'à ce que :\n",
    "\n",
    "    Le croupier ait 17 cartes ou\n",
    "\n",
    "    Un des joueurs ait blackjack (21 points)\n",
    "\n",
    "Si joueur gagne alors balance joueur = balance joueur + mise * 1.5\n",
    "\n",
    "## Déroulement d'une manche\n",
    "\n",
    "Si nb points croupier > 21 alors tous les joueurs gagnent\n",
    "\n",
    "Si nb points croupier = 21 alors tous les joueurs perdent\n",
    "\n",
    "Si 17 < nb points croupier < 21 alors\n",
    "\n",
    "    Si nb points joueur > nb points croupier alors joueur gagne\n",
    "    \n",
    "    Si nb points joueur = nb points croupier alors joueur reprend sa mise\n",
    "    \n",
    "    Sinon joueur perd\n",
    "    "
   ]
  },
  {
   "cell_type": "markdown",
   "metadata": {},
   "source": [
    "# Valeurs des cartes\n",
    "\n",
    "As = 1 ou 11 (au choix du joueur)\n",
    "\n",
    "Cartes de 2 à 9 = nombre de points\n",
    "\n",
    "Cartes graphiques (valet, reine et roi) = 10 points\n",
    "\n",
    "Couleurs = Coeur, carré, trèfle, pique"
   ]
  },
  {
   "cell_type": "code",
   "execution_count": 1,
   "metadata": {
    "collapsed": true
   },
   "outputs": [],
   "source": [
    "import pylint"
   ]
  },
  {
   "cell_type": "code",
   "execution_count": 2,
   "metadata": {
    "collapsed": true
   },
   "outputs": [],
   "source": [
    "import unittest"
   ]
  },
  {
   "cell_type": "code",
   "execution_count": 33,
   "metadata": {
    "collapsed": true
   },
   "outputs": [],
   "source": [
    "colors_value = [\"Carré\", \"Coeur\", \"Trèfle\", \"Pique\"]"
   ]
  },
  {
   "cell_type": "code",
   "execution_count": 34,
   "metadata": {},
   "outputs": [
    {
     "data": {
      "text/plain": [
       "{'1': 1, '2': 2, '3': 3, '4': 4, '5': 5, '6': 6, '7': 7, '8': 8, '9': 9}"
      ]
     },
     "execution_count": 34,
     "metadata": {},
     "output_type": "execute_result"
    }
   ],
   "source": [
    "cards_value = {str(i):i for i in range(1,10)}\n",
    "cards_value"
   ]
  },
  {
   "cell_type": "code",
   "execution_count": 35,
   "metadata": {},
   "outputs": [
    {
     "data": {
      "text/plain": [
       "{'1': 1,\n",
       " '2': 2,\n",
       " '3': 3,\n",
       " '4': 4,\n",
       " '5': 5,\n",
       " '6': 6,\n",
       " '7': 7,\n",
       " '8': 8,\n",
       " '9': 9,\n",
       " 'Dame': 10,\n",
       " 'Roi': 10,\n",
       " 'Valet': 10}"
      ]
     },
     "execution_count": 35,
     "metadata": {},
     "output_type": "execute_result"
    }
   ],
   "source": [
    "cards_value.update({i:10 for i in ['Valet', 'Dame', 'Roi']})\n",
    "cards_value"
   ]
  },
  {
   "cell_type": "code",
   "execution_count": 82,
   "metadata": {
    "collapsed": true
   },
   "outputs": [],
   "source": [
    "cards_value = {str(i):i for i in range(2,10)}\n",
    "cards_value.update({i:10 for i in ['Valet', 'Dame', 'Roi']})\n",
    "cards_value.update({'As':(1,10)})"
   ]
  },
  {
   "cell_type": "code",
   "execution_count": 83,
   "metadata": {},
   "outputs": [
    {
     "data": {
      "text/plain": [
       "{'2': 2,\n",
       " '3': 3,\n",
       " '4': 4,\n",
       " '5': 5,\n",
       " '6': 6,\n",
       " '7': 7,\n",
       " '8': 8,\n",
       " '9': 9,\n",
       " 'As': (1, 10),\n",
       " 'Dame': 10,\n",
       " 'Roi': 10,\n",
       " 'Valet': 10}"
      ]
     },
     "execution_count": 83,
     "metadata": {},
     "output_type": "execute_result"
    }
   ],
   "source": [
    "cards_value"
   ]
  },
  {
   "cell_type": "code",
   "execution_count": 84,
   "metadata": {},
   "outputs": [
    {
     "data": {
      "text/plain": [
       "dict_keys(['2', '3', '4', '5', '6', '7', '8', '9', 'Valet', 'Dame', 'Roi', 'As'])"
      ]
     },
     "execution_count": 84,
     "metadata": {},
     "output_type": "execute_result"
    }
   ],
   "source": [
    "test = 'Valet'\n",
    "cards_value.keys()"
   ]
  },
  {
   "cell_type": "code",
   "execution_count": 85,
   "metadata": {
    "collapsed": true
   },
   "outputs": [],
   "source": [
    "class Card():\n",
    "    def __init__(self, color=\"\", value=\"\", points=0):\n",
    "        self.color = color\n",
    "        self.value = value\n",
    "        self.points = points\n",
    "\n",
    "    def __str__(self):\n",
    "        return \"Card color : \"+self.color+\"\\nCard value : \"+self.value+\"\\nNumber of points for this card : \"+str(self.points)"
   ]
  },
  {
   "cell_type": "code",
   "execution_count": 86,
   "metadata": {
    "collapsed": true
   },
   "outputs": [],
   "source": [
    "card = Card()"
   ]
  },
  {
   "cell_type": "code",
   "execution_count": 87,
   "metadata": {},
   "outputs": [
    {
     "name": "stdout",
     "output_type": "stream",
     "text": [
      "Card color : \n",
      "Card value : \n",
      "Number of points for this card : 0\n"
     ]
    }
   ],
   "source": [
    "print(card)"
   ]
  },
  {
   "cell_type": "code",
   "execution_count": 88,
   "metadata": {
    "collapsed": true
   },
   "outputs": [],
   "source": [
    "import random"
   ]
  },
  {
   "cell_type": "code",
   "execution_count": 103,
   "metadata": {},
   "outputs": [
    {
     "name": "stdout",
     "output_type": "stream",
     "text": [
      "Dame 10\n"
     ]
    }
   ],
   "source": [
    "selected_card_value = random.choice(list(cards_value.keys()))\n",
    "selected_card_points = cards_value[selected_card_value]\n",
    "print(selected_card_value, selected_card_points)"
   ]
  },
  {
   "cell_type": "code",
   "execution_count": 3,
   "metadata": {
    "collapsed": true
   },
   "outputs": [],
   "source": [
    "import random\n",
    "\n",
    "balance_by_default = 17000\n",
    "playername_by_default = \"Croupier\"\n",
    "\n",
    "\n",
    "class Card():\n",
    "    def __init__(self, color=\"\", value=\"\", points=0):\n",
    "        self.color = color\n",
    "        self.value = value\n",
    "        self.points = points\n",
    "\n",
    "    def __str__(self):\n",
    "        return \"Card color : \"+self.color+\"\\nCard value : \"+self.value+\"\\nNumber of points for this card : \"+str(self.points)\n",
    "\n",
    "    # This is Class attributes that define available parameters for a card\n",
    "    colors_value = [\"Carré\", \"Coeur\", \"Trèfle\", \"Pique\"]\n",
    "\n",
    "    cards_value = {str(i): i for i in range(2, 10)}\n",
    "    cards_value.update({i: 10 for i in ['Valet', 'Dame', 'Roi']})\n",
    "    cards_value.update({'As': (1, 10)})\n",
    "\n",
    "    @classmethod\n",
    "    def random_card(cls):\n",
    "        \"\"\"\n",
    "        Method to select a random card\n",
    "        Output : Card object with random color, value and related number of points \n",
    "        \"\"\"\n",
    "        selected_card_value = random.choice(list(cls.cards_value.keys()))\n",
    "        selected_card_points = cls.cards_value[selected_card_value]\n",
    "        cls.color = random.choice(cls.colors_value)\n",
    "        cls.value = selected_card_value\n",
    "        cls.points = selected_card_points\n",
    "        return cls"
   ]
  },
  {
   "cell_type": "code",
   "execution_count": 4,
   "metadata": {},
   "outputs": [],
   "source": [
    "car = Card.random_card()"
   ]
  },
  {
   "cell_type": "code",
   "execution_count": 8,
   "metadata": {},
   "outputs": [
    {
     "data": {
      "text/plain": [
       "10"
      ]
     },
     "execution_count": 8,
     "metadata": {},
     "output_type": "execute_result"
    }
   ],
   "source": [
    "print()"
   ]
  },
  {
   "cell_type": "code",
   "execution_count": null,
   "metadata": {
    "collapsed": true
   },
   "outputs": [],
   "source": []
  }
 ],
 "metadata": {
  "kernelspec": {
   "display_name": "Python 3",
   "language": "python",
   "name": "python3"
  },
  "language_info": {
   "codemirror_mode": {
    "name": "ipython",
    "version": 3
   },
   "file_extension": ".py",
   "mimetype": "text/x-python",
   "name": "python",
   "nbconvert_exporter": "python",
   "pygments_lexer": "ipython3",
   "version": "3.6.1"
  }
 },
 "nbformat": 4,
 "nbformat_minor": 2
}
