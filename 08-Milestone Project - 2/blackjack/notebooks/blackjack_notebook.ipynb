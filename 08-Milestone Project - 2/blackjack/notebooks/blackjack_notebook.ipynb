{
 "cells": [
  {
   "cell_type": "markdown",
   "metadata": {},
   "source": [
    "# Blackjack\n",
    "\n",
    "Croupier contre joueurs\n",
    "\n",
    "## Déroulement d'une partie\n",
    "\n",
    "La partie continue jusqu'à ce que :\n",
    "\n",
    "    Balance joueur = 0 pour tous les joueurs ou\n",
    "\n",
    "    Caisse croupier = 0\n",
    "\n",
    "Une partie est composée de plusieurs manches\n",
    "\n",
    "La manche commence avec des mises et continue jusqu'à ce que :\n",
    "\n",
    "    Le croupier ait 17 cartes ou\n",
    "\n",
    "    Un des joueurs ait blackjack (21 points)\n",
    "\n",
    "Si joueur gagne alors balance joueur = balance joueur + mise * 1.5\n",
    "\n",
    "## Déroulement d'une manche\n",
    "\n",
    "Si nb points croupier > 21 alors tous les joueurs gagnent\n",
    "\n",
    "Si nb points croupier = 21 alors tous les joueurs perdent\n",
    "\n",
    "Si 17 < nb points croupier < 21 alors\n",
    "\n",
    "    Si nb points joueur > nb points croupier alors joueur gagne\n",
    "    \n",
    "    Si nb points joueur = nb points croupier alors joueur reprend sa mise\n",
    "    \n",
    "    Sinon joueur perd\n",
    "    "
   ]
  },
  {
   "cell_type": "markdown",
   "metadata": {},
   "source": [
    "# Valeurs des cartes\n",
    "\n",
    "As = 1 ou 11 (au choix du joueur)\n",
    "\n",
    "Cartes de 2 à 9 = nombre de points\n",
    "\n",
    "Cartes graphiques (valet, reine et roi) = 10 points\n",
    "\n",
    "Couleurs = Coeur, carré, trèfle, pique"
   ]
  },
  {
   "cell_type": "code",
   "execution_count": null,
   "metadata": {
    "collapsed": true
   },
   "outputs": [],
   "source": []
  },
  {
   "cell_type": "code",
   "execution_count": 53,
   "metadata": {},
   "outputs": [],
   "source": [
    "import random\n",
    "\n",
    "# Import config\n",
    "balance_by_default = 17000\n",
    "playername_by_default = \"Croupier\"\n",
    "\n",
    "\n",
    "class Card():\n",
    "    def __init__(self, color=\"\", value=\"\", points=0):\n",
    "        self.color = color\n",
    "        self.value = value\n",
    "        self.points = points\n",
    "\n",
    "    def __str__(self):\n",
    "        return \"Card color : \"+self.color+\"\\nCard value : \"+self.value+\"\\nNumber of points for this card : \"+str(self.points)\n",
    "\n",
    "    # This is Class attributes that define available parameters for a card\n",
    "    colors_value = [\"Carré\", \"Coeur\", \"Trèfle\", \"Pique\"]\n",
    "\n",
    "    cards_value = {str(i): i for i in range(2, 10)}\n",
    "    # Points values\n",
    "    cards_value.update({i: 10 for i in ['Valet', 'Dame', 'Roi']})\n",
    "    cards_value.update({'As': (1, 10)})\n",
    "\n",
    "    @classmethod\n",
    "    def random_card(cls):\n",
    "        \"\"\"\n",
    "        Method to select a random card\n",
    "        Output : Card object with random color, value and related number of\n",
    "        points\n",
    "        \"\"\"\n",
    "        selected_card_value = random.choice(list(cls.cards_value.keys()))\n",
    "        selected_card_points = cls.cards_value[selected_card_value]\n",
    "        cls.color = random.choice(cls.colors_value)\n",
    "        cls.value = selected_card_value\n",
    "        cls.points = selected_card_points\n",
    "        return cls\n",
    "\n",
    "\n",
    "class Player():\n",
    "    def __init__(self, name=playername_by_default, balance=balance_by_default, game=[]):\n",
    "        self.name = name\n",
    "        self.balance = balance\n",
    "        self.game = game\n",
    "        self.nb_cards = len(game)\n",
    "\n",
    "    def __str__(self):\n",
    "        return \"Player name : \"+self.name+\"\\nPlayer balance : \"+str(self.balance)+\"\\nPlayer cards : \"+str(self.game)    \n",
    "    \n",
    "    def add_card_to_game(self):\n",
    "        self.game.append(Card.random_card())"
   ]
  },
  {
   "cell_type": "code",
   "execution_count": 54,
   "metadata": {
    "collapsed": true
   },
   "outputs": [],
   "source": [
    "player1 = Player()"
   ]
  },
  {
   "cell_type": "code",
   "execution_count": 55,
   "metadata": {},
   "outputs": [
    {
     "name": "stdout",
     "output_type": "stream",
     "text": [
      "Player name : Croupier\n",
      "Player balance : 17000\n",
      "Player cards : []\n"
     ]
    }
   ],
   "source": [
    "print(player1)"
   ]
  },
  {
   "cell_type": "code",
   "execution_count": null,
   "metadata": {
    "collapsed": true
   },
   "outputs": [],
   "source": []
  }
 ],
 "metadata": {
  "kernelspec": {
   "display_name": "Python 3",
   "language": "python",
   "name": "python3"
  },
  "language_info": {
   "codemirror_mode": {
    "name": "ipython",
    "version": 3
   },
   "file_extension": ".py",
   "mimetype": "text/x-python",
   "name": "python",
   "nbconvert_exporter": "python",
   "pygments_lexer": "ipython3",
   "version": "3.6.1"
  }
 },
 "nbformat": 4,
 "nbformat_minor": 2
}
