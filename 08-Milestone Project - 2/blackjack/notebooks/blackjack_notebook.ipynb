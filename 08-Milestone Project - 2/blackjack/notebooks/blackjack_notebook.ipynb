{
 "cells": [
  {
   "cell_type": "markdown",
   "metadata": {},
   "source": [
    "# Blackjack\n",
    "\n",
    "Croupier contre joueurs\n",
    "\n",
    "## Déroulement d'une partie\n",
    "\n",
    "La partie continue jusqu'à ce que :\n",
    "\n",
    "    Balance joueur = 0 pour tous les joueurs ou\n",
    "\n",
    "    Caisse croupier = 0\n",
    "\n",
    "Une partie est composée de plusieurs manches\n",
    "\n",
    "La manche commence avec des mises et continue jusqu'à ce que :\n",
    "\n",
    "    Le croupier ait 17 cartes ou\n",
    "\n",
    "    Un des joueurs ait blackjack (21 points)\n",
    "\n",
    "Si joueur gagne alors balance joueur = balance joueur + mise * 1.5\n",
    "\n",
    "## Déroulement d'une manche\n",
    "\n",
    "Si nb points croupier > 21 alors tous les joueurs gagnent\n",
    "\n",
    "Si nb points croupier = 21 alors tous les joueurs perdent\n",
    "\n",
    "Si 17 < nb points croupier < 21 alors\n",
    "\n",
    "    Si nb points joueur > nb points croupier alors joueur gagne\n",
    "    \n",
    "    Si nb points joueur = nb points croupier alors joueur reprend sa mise\n",
    "    \n",
    "    Sinon joueur perd\n",
    "    "
   ]
  },
  {
   "cell_type": "markdown",
   "metadata": {},
   "source": [
    "# Valeurs des cartes\n",
    "\n",
    "As = 1 ou 11 (au choix du joueur)\n",
    "\n",
    "Cartes de 2 à 9 = nombre de points\n",
    "\n",
    "Cartes graphiques (valet, reine et roi) = 10 points\n",
    "\n",
    "Couleurs = Coeur, carré, trèfle, pique"
   ]
  },
  {
   "cell_type": "code",
   "execution_count": 1,
   "metadata": {},
   "outputs": [
    {
     "data": {
      "text/plain": [
       "'C:\\\\Users\\\\rafdj\\\\OneDrive\\\\GIT\\\\Complete-Python-3-Bootcamp\\\\08-Milestone Project - 2\\\\blackjack\\\\notebooks\\\\Complete-Python-3-Bootcamp\\\\08-Milestone Project - 2\\\\blackjack\\\\src'"
      ]
     },
     "execution_count": 1,
     "metadata": {},
     "output_type": "execute_result"
    }
   ],
   "source": [
    "import sys\n",
    "import os\n",
    "\n",
    "os.path.abspath(os.curdir)+\"\\\\Complete-Python-3-Bootcamp\\\\08-Milestone Project - 2\\\\blackjack\\\\src\""
   ]
  },
  {
   "cell_type": "code",
   "execution_count": 2,
   "metadata": {},
   "outputs": [
    {
     "data": {
      "text/plain": [
       "'C:\\\\Users\\\\rafdj\\\\OneDrive\\\\GIT\\\\Complete-Python-3-Bootcamp\\\\08-Milestone Project - 2\\\\blackjack\\\\notebooks\\\\..\\\\src'"
      ]
     },
     "execution_count": 2,
     "metadata": {},
     "output_type": "execute_result"
    }
   ],
   "source": [
    "repo = os.path.abspath(os.curdir)+\"\\\\..\"+\"\\\\src\"\n",
    "repo"
   ]
  },
  {
   "cell_type": "code",
   "execution_count": 3,
   "metadata": {},
   "outputs": [],
   "source": [
    "sys.path.append(repo)"
   ]
  },
  {
   "cell_type": "code",
   "execution_count": 10,
   "metadata": {},
   "outputs": [],
   "source": [
    "from utils.players_init import *\n",
    "from utils.winner_test import *\n",
    "from utils.playing_oneset import *\n",
    "from utils.player import *\n",
    "from utils.card import *"
   ]
  },
  {
   "cell_type": "code",
   "execution_count": 73,
   "metadata": {},
   "outputs": [
    {
     "name": "stdout",
     "output_type": "stream",
     "text": [
      "Please select a number of players : 1\n",
      "You are the number 1\n",
      "What is your name ? Rafik\n"
     ]
    }
   ],
   "source": [
    "players = players_init()"
   ]
  },
  {
   "cell_type": "code",
   "execution_count": 74,
   "metadata": {},
   "outputs": [],
   "source": [
    "def playing_oneset(players):\n",
    "    \"\"\"\n",
    "    Playing one set of blackjack\n",
    "    The game continue until :\n",
    "        Crouper (players[0]) has 17 cards or\n",
    "        No player ask for a card\n",
    "    \"\"\"\n",
    "    player_index = 1\n",
    "    while True:\n",
    "        player = players[player_index]\n",
    "        request_for_player = player.name + \", Do you want a card ? Y/N : \"\n",
    "        do_you_want_a_card = input(request_for_player)\n",
    "        if do_you_want_a_card.strip().upper() == 'Y':\n",
    "            new_card = Card.random_card()\n",
    "            print(\"(\"+new_card.color+\",\"+new_card.value+\",\"+str(new_card.points)+\")\")\n",
    "            player.game.append(new_card)\n",
    "            # Croupier add a card only if a player do it\n",
    "            players[0].game.append(new_card)\n",
    "            player_index += 1\n",
    "            del(new_card)\n",
    "        elif do_you_want_a_card.strip().upper() == 'N':\n",
    "            player_index += 1\n",
    "        else:\n",
    "            print(\"I did not understand your answer, please select Y(yes) or N(no)\")\n",
    "        if player_index == len(players):\n",
    "            player_index = 1\n",
    "        if len(players[0]) == 17:\n",
    "            break"
   ]
  },
  {
   "cell_type": "code",
   "execution_count": 75,
   "metadata": {
    "scrolled": true
   },
   "outputs": [
    {
     "name": "stdout",
     "output_type": "stream",
     "text": [
      "Rafik, Do you want a card ? Y/N : y\n",
      "(Pique,Dame,10)\n",
      "Rafik, Do you want a card ? Y/N : yy\n",
      "I did not understand your answer, please select Y(yes) or N(no)\n",
      "Rafik, Do you want a card ? Y/N : y\n",
      "(Coeur,As,(1, 11))\n",
      "Rafik, Do you want a card ? Y/N : y\n",
      "(Pique,Valet,10)\n",
      "Rafik, Do you want a card ? Y/N : y\n",
      "(Trèfle,8,8)\n",
      "Rafik, Do you want a card ? Y/N : y\n",
      "(Carré,8,8)\n",
      "Rafik, Do you want a card ? Y/N : y\n",
      "(Pique,4,4)\n",
      "Rafik, Do you want a card ? Y/N : y\n",
      "(Pique,5,5)\n",
      "Rafik, Do you want a card ? Y/N : y\n",
      "(Pique,2,2)\n",
      "Rafik, Do you want a card ? Y/N : y\n",
      "(Carré,Valet,10)\n",
      "Rafik, Do you want a card ? Y/N : y\n",
      "(Trèfle,As,(1, 11))\n",
      "Rafik, Do you want a card ? Y/N : y\n",
      "(Carré,2,2)\n",
      "Rafik, Do you want a card ? Y/N : y\n",
      "(Pique,As,(1, 11))\n",
      "Rafik, Do you want a card ? Y/N : y\n",
      "(Trèfle,4,4)\n",
      "Rafik, Do you want a card ? Y/N : y\n",
      "(Pique,2,2)\n",
      "Rafik, Do you want a card ? Y/N : y\n",
      "(Trèfle,8,8)\n",
      "Rafik, Do you want a card ? Y/N : y\n",
      "(Trèfle,As,(1, 11))\n",
      "Rafik, Do you want a card ? Y/N : y\n",
      "(Pique,9,9)\n"
     ]
    }
   ],
   "source": [
    "playing_oneset(players)"
   ]
  },
  {
   "cell_type": "code",
   "execution_count": 71,
   "metadata": {},
   "outputs": [
    {
     "name": "stdout",
     "output_type": "stream",
     "text": [
      "(Trèfle,7,7)\n"
     ]
    }
   ],
   "source": [
    "test = Card(players[1].game[1].color,players[1].game[1].value,players[1].game[1].points)\n",
    "print(test)"
   ]
  },
  {
   "cell_type": "code",
   "execution_count": 80,
   "metadata": {},
   "outputs": [
    {
     "name": "stdout",
     "output_type": "stream",
     "text": [
      "[<class 'utils.card.Card'>, <class 'utils.card.Card'>, <class 'utils.card.Card'>, <class 'utils.card.Card'>, <class 'utils.card.Card'>, <class 'utils.card.Card'>, <class 'utils.card.Card'>, <class 'utils.card.Card'>, <class 'utils.card.Card'>, <class 'utils.card.Card'>, <class 'utils.card.Card'>, <class 'utils.card.Card'>, <class 'utils.card.Card'>, <class 'utils.card.Card'>, <class 'utils.card.Card'>, <class 'utils.card.Card'>, <class 'utils.card.Card'>]\n"
     ]
    }
   ],
   "source": [
    "print(players[1].game)"
   ]
  },
  {
   "cell_type": "code",
   "execution_count": 63,
   "metadata": {},
   "outputs": [],
   "source": [
    "new_card = Card.random_card()\n",
    "#print(new_card)\n"
   ]
  },
  {
   "cell_type": "code",
   "execution_count": 64,
   "metadata": {},
   "outputs": [
    {
     "data": {
      "text/plain": [
       "'(Carré,5,5)'"
      ]
     },
     "execution_count": 64,
     "metadata": {},
     "output_type": "execute_result"
    }
   ],
   "source": [
    "str(new_card.points)\n",
    "t = \n",
    "new_card.color\n",
    "print(\"(\"+new_card.color+\",\"+new_card.value+\",\"+str(new_card.points)+\")\")\n"
   ]
  },
  {
   "cell_type": "code",
   "execution_count": 65,
   "metadata": {},
   "outputs": [],
   "source": [
    "del(new_card)"
   ]
  },
  {
   "cell_type": "code",
   "execution_count": null,
   "metadata": {},
   "outputs": [],
   "source": [
    "id(players[1].game)"
   ]
  },
  {
   "cell_type": "code",
   "execution_count": null,
   "metadata": {},
   "outputs": [],
   "source": [
    "players[1].game[0]"
   ]
  },
  {
   "cell_type": "code",
   "execution_count": null,
   "metadata": {},
   "outputs": [],
   "source": [
    "players[0].game[0]"
   ]
  },
  {
   "cell_type": "code",
   "execution_count": null,
   "metadata": {},
   "outputs": [],
   "source": [
    "dir(Card)"
   ]
  },
  {
   "cell_type": "code",
   "execution_count": null,
   "metadata": {},
   "outputs": [],
   "source": []
  }
 ],
 "metadata": {
  "kernelspec": {
   "display_name": "Python 3",
   "language": "python",
   "name": "python3"
  },
  "language_info": {
   "codemirror_mode": {
    "name": "ipython",
    "version": 3
   },
   "file_extension": ".py",
   "mimetype": "text/x-python",
   "name": "python",
   "nbconvert_exporter": "python",
   "pygments_lexer": "ipython3",
   "version": "3.7.3"
  }
 },
 "nbformat": 4,
 "nbformat_minor": 2
}
